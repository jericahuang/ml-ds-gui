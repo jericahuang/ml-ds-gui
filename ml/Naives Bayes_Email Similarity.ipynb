{
 "cells": [
  {
   "cell_type": "markdown",
   "metadata": {},
   "source": [
    "### Import the required libraries and data\n",
    "#### Our data is from the sklearn.datasets library"
   ]
  },
  {
   "cell_type": "code",
   "execution_count": 1,
   "metadata": {},
   "outputs": [],
   "source": [
    "from sklearn.datasets import fetch_20newsgroups\n",
    "from sklearn.naive_bayes import MultinomialNB\n",
    "from sklearn.feature_extraction.text import CountVectorizer"
   ]
  },
  {
   "cell_type": "markdown",
   "metadata": {},
   "source": [
    "### Download the data into the emails variable\n",
    "1. Our focus is on finding difference between emails in the categories baseball and hockey\n",
    "2. We pass these as a list to the \"categories\" argument\n",
    "3. Print the target_names to confirm these are the only categories downloaded"
   ]
  },
  {
   "cell_type": "code",
   "execution_count": 2,
   "metadata": {},
   "outputs": [
    {
     "name": "stdout",
     "output_type": "stream",
     "text": [
      "['rec.sport.baseball', 'rec.sport.hockey']\n"
     ]
    }
   ],
   "source": [
    "emails = fetch_20newsgroups(categories=[\"rec.sport.baseball\", \"rec.sport.hockey\"])\n",
    "print(emails.target_names)"
   ]
  },
  {
   "cell_type": "markdown",
   "metadata": {},
   "source": [
    "### The data is stored in emails.data attribute, let us view how a row looks like"
   ]
  },
  {
   "cell_type": "code",
   "execution_count": 3,
   "metadata": {},
   "outputs": [
    {
     "name": "stdout",
     "output_type": "stream",
     "text": [
      "From: mmb@lamar.ColoState.EDU (Michael Burger)\n",
      "Subject: More TV Info\n",
      "Distribution: na\n",
      "Nntp-Posting-Host: lamar.acns.colostate.edu\n",
      "Organization: Colorado State University, Fort Collins, CO  80523\n",
      "Lines: 36\n",
      "\n",
      "United States Coverage:\n",
      "Sunday April 18\n",
      "  N.J./N.Y.I. at Pittsburgh - 1:00 EDT to Eastern Time Zone\n",
      "  ABC - Gary Thorne and Bill Clement\n",
      "\n",
      "  St. Louis at Chicago - 12:00 CDT and 11:00 MDT - to Central/Mountain Zones\n",
      "  ABC - Mike Emerick and Jim Schoenfeld\n",
      "\n",
      "  Los Angeles at Calgary - 12:00 PDT and 11:00 ADT - to Pacific/Alaskan Zones\n",
      "  ABC - Al Michaels and John Davidson\n",
      "\n",
      "Tuesday, April 20\n",
      "  N.J./N.Y.I. at Pittsburgh - 7:30 EDT Nationwide\n",
      "  ESPN - Gary Thorne and Bill Clement\n",
      "\n",
      "Thursday, April 22 and Saturday April 24\n",
      "  To Be Announced - 7:30 EDT Nationwide\n",
      "  ESPN - To Be Announced\n",
      "\n",
      "\n",
      "Canadian Coverage:\n",
      "\n",
      "Sunday, April 18\n",
      "  Buffalo at Boston - 7:30 EDT Nationwide\n",
      "  TSN - ???\n",
      "\n",
      "Tuesday, April 20\n",
      "  N.J.D./N.Y. at Pittsburgh - 7:30 EDT Nationwide\n",
      "  TSN - ???\n",
      "\n",
      "Wednesday, April 21\n",
      "  St. Louis at Chicago - 8:30 EDT Nationwide\n",
      "  TSN - ???\n",
      "\n",
      "\n",
      "\n",
      "\n"
     ]
    }
   ],
   "source": [
    "print(emails.data[5])"
   ]
  },
  {
   "cell_type": "markdown",
   "metadata": {},
   "source": [
    "### View the target for the email in index 5\n",
    "1. **1**: a hockey email\n",
    "2. **0**: a baseball email"
   ]
  },
  {
   "cell_type": "code",
   "execution_count": 4,
   "metadata": {},
   "outputs": [
    {
     "data": {
      "text/plain": [
       "1"
      ]
     },
     "execution_count": 4,
     "metadata": {},
     "output_type": "execute_result"
    }
   ],
   "source": [
    "emails.target[5]"
   ]
  },
  {
   "cell_type": "markdown",
   "metadata": {},
   "source": [
    "### Split the data into training and test sets"
   ]
  },
  {
   "cell_type": "markdown",
   "metadata": {},
   "source": [
    "1. **subset=\"train/test\"**:  to load either the training or test dataset  \n",
    "2. **shuffle=True**:     shuffle up the data \n",
    "3. **random_state=108**: used to help shuffle the data "
   ]
  },
  {
   "cell_type": "code",
   "execution_count": 5,
   "metadata": {},
   "outputs": [],
   "source": [
    "train_emails = fetch_20newsgroups(categories=[\"rec.sport.baseball\", \"rec.sport.hockey\"],\n",
    "                                 subset=\"train\", shuffle=\"True\", random_state=108)"
   ]
  },
  {
   "cell_type": "code",
   "execution_count": 6,
   "metadata": {},
   "outputs": [],
   "source": [
    "test_emails = fetch_20newsgroups(categories=[\"rec.sport.baseball\", \"rec.sport.hockey\"],\n",
    "                                subset=\"test\", shuffle=\"True\", random_state=108)"
   ]
  },
  {
   "cell_type": "markdown",
   "metadata": {},
   "source": [
    "### Create a variable that will count all the words in the emails"
   ]
  },
  {
   "cell_type": "code",
   "execution_count": 7,
   "metadata": {},
   "outputs": [],
   "source": [
    "counter = CountVectorizer()"
   ]
  },
  {
   "cell_type": "markdown",
   "metadata": {},
   "source": [
    "### Train counter with the possible words in the email: train_emails and test_emails"
   ]
  },
  {
   "cell_type": "code",
   "execution_count": 8,
   "metadata": {},
   "outputs": [
    {
     "data": {
      "text/plain": [
       "CountVectorizer(analyzer='word', binary=False, decode_error='strict',\n",
       "                dtype=<class 'numpy.int64'>, encoding='utf-8', input='content',\n",
       "                lowercase=True, max_df=1.0, max_features=None, min_df=1,\n",
       "                ngram_range=(1, 1), preprocessor=None, stop_words=None,\n",
       "                strip_accents=None, token_pattern='(?u)\\\\b\\\\w\\\\w+\\\\b',\n",
       "                tokenizer=None, vocabulary=None)"
      ]
     },
     "execution_count": 8,
     "metadata": {},
     "output_type": "execute_result"
    }
   ],
   "source": [
    "counter.fit(test_emails.data + train_emails.data)"
   ]
  },
  {
   "cell_type": "markdown",
   "metadata": {},
   "source": [
    "### Store the list of counts of words in the datasets into a new variable"
   ]
  },
  {
   "cell_type": "code",
   "execution_count": 9,
   "metadata": {},
   "outputs": [],
   "source": [
    "train_counts = counter.transform(train_emails.data)\n",
    "test_counts = counter.transform(test_emails.data)"
   ]
  },
  {
   "cell_type": "markdown",
   "metadata": {},
   "source": [
    "### Create an object from the Naive Bayes Classifier"
   ]
  },
  {
   "cell_type": "code",
   "execution_count": 10,
   "metadata": {},
   "outputs": [],
   "source": [
    "classifier = MultinomialNB()"
   ]
  },
  {
   "cell_type": "markdown",
   "metadata": {},
   "source": [
    "### Fit the data to the created object\n",
    "1. **1st argument**: list of word counts from the training data\n",
    "2. **2nd argument**: possible category from the training data"
   ]
  },
  {
   "cell_type": "code",
   "execution_count": 11,
   "metadata": {},
   "outputs": [
    {
     "data": {
      "text/plain": [
       "MultinomialNB(alpha=1.0, class_prior=None, fit_prior=True)"
      ]
     },
     "execution_count": 11,
     "metadata": {},
     "output_type": "execute_result"
    }
   ],
   "source": [
    "classifier.fit(train_counts, train_emails.target)"
   ]
  },
  {
   "cell_type": "markdown",
   "metadata": {},
   "source": [
    "### Test the classifier with the test data and view how accurate it is\n",
    "Our model is **97.23%** accurate in finding the difference between hockey and baseball emails"
   ]
  },
  {
   "cell_type": "code",
   "execution_count": 12,
   "metadata": {},
   "outputs": [
    {
     "name": "stdout",
     "output_type": "stream",
     "text": [
      "0.9723618090452262\n"
     ]
    }
   ],
   "source": [
    "print(classifier.score(test_counts, test_emails.target))"
   ]
  },
  {
   "cell_type": "markdown",
   "metadata": {},
   "source": [
    "### Will a model with the category hardware and hockey be more accurate? Let us see\n",
    "1. This model is way better than the previous **99.75%**\n",
    "2. Obviously 2 emails about hardware and hockey will have more different terms than if both emails were about sports."
   ]
  },
  {
   "cell_type": "code",
   "execution_count": 13,
   "metadata": {},
   "outputs": [
    {
     "name": "stdout",
     "output_type": "stream",
     "text": [
      "0.9974715549936789\n"
     ]
    }
   ],
   "source": [
    "# store the emails from the categories into a variable\n",
    "train_emails = fetch_20newsgroups(categories=[\"comp.sys.ibm.pc.hardware\", \"rec.sport.hockey\"],\n",
    "                                 subset=\"train\", shuffle=True, random_state=108)\n",
    "test_emails = fetch_20newsgroups(categories=[\"comp.sys.ibm.pc.hardware\", \"rec.sport.hockey\"],\n",
    "                                subset=\"test\", shuffle=True, random_state=108)\n",
    "\n",
    "# create a vectorizer to count the words in the categories \n",
    "counter = CountVectorizer()\n",
    "counter.fit(test_emails.data + train_emails.data)\n",
    "\n",
    "train_counts = counter.transform(train_emails.data)\n",
    "test_counts = counter.transform(test_emails.data)\n",
    "\n",
    "# create a classifier to fit the words \n",
    "classifier = MultinomialNB()\n",
    "classifier.fit(train_counts, train_emails.target)\n",
    "\n",
    "# predict the accuracy of the mode using test data\n",
    "print(classifier.score(test_counts, test_emails.target))\n"
   ]
  },
  {
   "cell_type": "code",
   "execution_count": null,
   "metadata": {},
   "outputs": [],
   "source": []
  }
 ],
 "metadata": {
  "kernelspec": {
   "display_name": "Python 3",
   "language": "python",
   "name": "python3"
  },
  "language_info": {
   "codemirror_mode": {
    "name": "ipython",
    "version": 3
   },
   "file_extension": ".py",
   "mimetype": "text/x-python",
   "name": "python",
   "nbconvert_exporter": "python",
   "pygments_lexer": "ipython3",
   "version": "3.7.4"
  }
 },
 "nbformat": 4,
 "nbformat_minor": 2
}
